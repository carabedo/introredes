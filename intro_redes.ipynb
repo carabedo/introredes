{
 "cells": [
  {
   "cell_type": "markdown",
   "id": "11b76351",
   "metadata": {
    "slideshow": {
     "slide_type": "slide"
    }
   },
   "source": [
    "# las neuronas\n",
    "\n",
    "![](https://c.tenor.com/K9q23o-X8HEAAAAC/brain-neurons.gif)"
   ]
  },
  {
   "cell_type": "markdown",
   "id": "f1051925",
   "metadata": {
    "slideshow": {
     "slide_type": "slide"
    }
   },
   "source": [
    "# \"las neuronas\"\n",
    "\n",
    "![](https://i.stack.imgur.com/Ql0YP.png)"
   ]
  },
  {
   "cell_type": "code",
   "execution_count": 1,
   "id": "8e7e493f",
   "metadata": {
    "slideshow": {
     "slide_type": "slide"
    }
   },
   "outputs": [],
   "source": [
    "# definimos la neurona, recibe de input un vector (x1,x2,...,xn)\n",
    "# usa los pesos W (w1,w2,...,wn)\n",
    "import numpy as np\n",
    "\n",
    "def f(x, w):\n",
    "    \n",
    "    # suma pesada\n",
    "    # sumo cada par xn*wn y al final el bias \n",
    "    # eso es el producto interno o dot product en algebra\n",
    "    wsum = np.dot(x,w[1:]) + w[0]\n",
    "    \n",
    "    # activacion, si la suma pesada supera cierto limite la funcion\n",
    "    # tira un 1\n",
    "    # si no, tira un 0\n",
    "    \n",
    "    if wsum >= 0.0:\n",
    "        output=1\n",
    "    else:\n",
    "        output=0\n",
    "    return output\n",
    "\n"
   ]
  },
  {
   "cell_type": "code",
   "execution_count": 4,
   "id": "ee3e9061",
   "metadata": {
    "slideshow": {
     "slide_type": "slide"
    }
   },
   "outputs": [
    {
     "data": {
      "text/html": [
       "<div>\n",
       "<style scoped>\n",
       "    .dataframe tbody tr th:only-of-type {\n",
       "        vertical-align: middle;\n",
       "    }\n",
       "\n",
       "    .dataframe tbody tr th {\n",
       "        vertical-align: top;\n",
       "    }\n",
       "\n",
       "    .dataframe thead th {\n",
       "        text-align: right;\n",
       "    }\n",
       "</style>\n",
       "<table border=\"1\" class=\"dataframe\">\n",
       "  <thead>\n",
       "    <tr style=\"text-align: right;\">\n",
       "      <th></th>\n",
       "      <th>x1</th>\n",
       "      <th>x2</th>\n",
       "      <th>y</th>\n",
       "    </tr>\n",
       "  </thead>\n",
       "  <tbody>\n",
       "    <tr>\n",
       "      <th>0</th>\n",
       "      <td>2.781084</td>\n",
       "      <td>2.550537</td>\n",
       "      <td>0</td>\n",
       "    </tr>\n",
       "    <tr>\n",
       "      <th>1</th>\n",
       "      <td>1.465489</td>\n",
       "      <td>2.362125</td>\n",
       "      <td>0</td>\n",
       "    </tr>\n",
       "    <tr>\n",
       "      <th>2</th>\n",
       "      <td>3.396562</td>\n",
       "      <td>4.400294</td>\n",
       "      <td>0</td>\n",
       "    </tr>\n",
       "    <tr>\n",
       "      <th>3</th>\n",
       "      <td>1.388070</td>\n",
       "      <td>1.850220</td>\n",
       "      <td>0</td>\n",
       "    </tr>\n",
       "    <tr>\n",
       "      <th>4</th>\n",
       "      <td>3.064072</td>\n",
       "      <td>3.005306</td>\n",
       "      <td>0</td>\n",
       "    </tr>\n",
       "  </tbody>\n",
       "</table>\n",
       "</div>"
      ],
      "text/plain": [
       "         x1        x2  y\n",
       "0  2.781084  2.550537  0\n",
       "1  1.465489  2.362125  0\n",
       "2  3.396562  4.400294  0\n",
       "3  1.388070  1.850220  0\n",
       "4  3.064072  3.005306  0"
      ]
     },
     "execution_count": 4,
     "metadata": {},
     "output_type": "execute_result"
    }
   ],
   "source": [
    "import pandas as pd\n",
    "\n",
    "dataset = [[2.7810836,2.550537003,0],\n",
    "    [1.465489372,2.362125076,0],\n",
    "    [3.396561688,4.400293529,0],\n",
    "    [1.38807019,1.850220317,0],\n",
    "    [3.06407232,3.005305973,0],\n",
    "    [7.627531214,2.759262235,1],\n",
    "    [5.332441248,2.088626775,1],\n",
    "    [6.922596716,1.77106367,1],\n",
    "    [8.675418651,-0.242068655,1],\n",
    "    [7.673756466,3.508563011,1]]\n",
    "\n",
    "data=pd.DataFrame(dataset,columns=['x1','x2','y'])\n",
    "data.head()"
   ]
  },
  {
   "cell_type": "code",
   "execution_count": 6,
   "id": "a526a640",
   "metadata": {
    "slideshow": {
     "slide_type": "slide"
    }
   },
   "outputs": [],
   "source": [
    "X=data[['x1','x2']]\n",
    "y=data.y"
   ]
  },
  {
   "cell_type": "code",
   "execution_count": 8,
   "id": "8b0ffb8f",
   "metadata": {
    "slideshow": {
     "slide_type": "slide"
    }
   },
   "outputs": [
    {
     "name": "stdout",
     "output_type": "stream",
     "text": [
      "Target=0, Prediccion=0\n",
      "Target=0, Prediccion=1\n",
      "Target=0, Prediccion=1\n",
      "Target=0, Prediccion=1\n",
      "Target=0, Prediccion=0\n",
      "Target=1, Prediccion=0\n",
      "Target=1, Prediccion=0\n",
      "Target=1, Prediccion=0\n",
      "Target=1, Prediccion=0\n",
      "Target=1, Prediccion=0\n"
     ]
    }
   ],
   "source": [
    "# veamos como funciona si los pesos ya nos vienen definidos\n",
    "# un peso por cada xn y un bias (3) \n",
    "\n",
    "weights = np.array([5, -91, 91])\n",
    "\n",
    "# miro el output de mi neurona para cada fila\n",
    "# comparo con la columna 'y' el target\n",
    "\n",
    "for i,x in enumerate(X.values):\n",
    "    prediction = f(x, weights)\n",
    "    print(\"Target=%d, Prediccion=%d\" % (y[i], prediction))"
   ]
  },
  {
   "cell_type": "code",
   "execution_count": 7,
   "id": "e0aaa46f",
   "metadata": {
    "slideshow": {
     "slide_type": "slide"
    }
   },
   "outputs": [
    {
     "name": "stdout",
     "output_type": "stream",
     "text": [
      "Target=0, Prediccion=0\n",
      "Target=0, Prediccion=0\n",
      "Target=0, Prediccion=0\n",
      "Target=0, Prediccion=0\n",
      "Target=0, Prediccion=0\n",
      "Target=1, Prediccion=1\n",
      "Target=1, Prediccion=1\n",
      "Target=1, Prediccion=1\n",
      "Target=1, Prediccion=1\n",
      "Target=1, Prediccion=1\n"
     ]
    }
   ],
   "source": [
    "# veamos como funciona si los pesos ya nos vienen definidos\n",
    "# un peso por cada xn y un bias (3) \n",
    "\n",
    "weights = np.array([-0.1, 0.20653640140000007, -0.23418117710000003])\n",
    "\n",
    "# miro el output de mi neurona para cada fila\n",
    "# comparo con la columna 'y' el target\n",
    "\n",
    "for i,x in enumerate(X.values):\n",
    "    prediction = f(x, weights)\n",
    "    print(\"Target=%d, Prediccion=%d\" % (y[i], prediction))"
   ]
  },
  {
   "cell_type": "code",
   "execution_count": 9,
   "id": "16a0db80",
   "metadata": {
    "slideshow": {
     "slide_type": "slide"
    }
   },
   "outputs": [],
   "source": [
    "# Pero como obtengo los parametros/pesos y biases? \n",
    "# Como obtenia los betas/parametros de cualquier modelo?\n",
    "\n",
    "# descenso gradiente!\n",
    "\n",
    "def train_weights(x_train,y_train, l_rate, n_epoch):\n",
    "    #inicio con w = 0,0...0\n",
    "    weights = [0.0 for i in range(len(x_train[0])+1)]\n",
    "    \n",
    "    print('>epoch=-1, lrate=%.3f, error=inf,w0=%.3f, w1=%.3f, w2=%.3f' %(l_rate,weights[0], weights[1], weights[2])) \n",
    "    \n",
    "    #itero\n",
    "    \n",
    "    for epoch in range(n_epoch):\n",
    "        sum_error = 0.0\n",
    "        \n",
    "        #predigo sobre las filas\n",
    "        for i,x in enumerate(x_train):\n",
    "            prediction = f(x, weights)\n",
    "            \n",
    "            # calculo la funcion de costo\n",
    "            error = y_train[i] - prediction\n",
    "            sum_error += error**2\n",
    "            \n",
    "            # defino los nuevos pesos en la direccion del gradiente\n",
    "            # l_rate era la longuitud del paso en esa direccion\n",
    "            \n",
    "            weights[0] = weights[0] + l_rate * error\n",
    "            for i in range(len(x)):\n",
    "                weights[i + 1] = weights[i + 1] + l_rate * error * x[i]\n",
    "                \n",
    "        print('>epoch=%d, lrate=%.3f, error=%.3f, w0=%.3f, w1=%.3f, w2=%.3f' %\n",
    "              (epoch, l_rate, sum_error, weights[0], weights[1], weights[2]))\n",
    "    return weights"
   ]
  },
  {
   "cell_type": "code",
   "execution_count": 10,
   "id": "e7ba7653",
   "metadata": {
    "slideshow": {
     "slide_type": "slide"
    }
   },
   "outputs": [
    {
     "name": "stdout",
     "output_type": "stream",
     "text": [
      ">epoch=-1, lrate=0.100, error=inf,w0=0.000, w1=0.000, w2=0.000\n",
      ">epoch=0, lrate=0.100, error=2.000, w0=0.000, w1=0.485, w2=0.021\n",
      ">epoch=1, lrate=0.100, error=1.000, w0=-0.100, w1=0.207, w2=-0.234\n",
      ">epoch=2, lrate=0.100, error=0.000, w0=-0.100, w1=0.207, w2=-0.234\n",
      ">epoch=3, lrate=0.100, error=0.000, w0=-0.100, w1=0.207, w2=-0.234\n",
      ">epoch=4, lrate=0.100, error=0.000, w0=-0.100, w1=0.207, w2=-0.234\n"
     ]
    }
   ],
   "source": [
    "# ahora si, entrenemos nuestra neurona\n",
    "\n",
    "l_rate = 0.1\n",
    "n_epoch = 5\n",
    "\n",
    "weights = train_weights(X.values,y, l_rate, n_epoch)\n"
   ]
  },
  {
   "cell_type": "code",
   "execution_count": 11,
   "id": "014baedd",
   "metadata": {
    "slideshow": {
     "slide_type": "slide"
    }
   },
   "outputs": [
    {
     "name": "stdout",
     "output_type": "stream",
     "text": [
      "Target=0, Prediccion=0\n",
      "Target=0, Prediccion=0\n",
      "Target=0, Prediccion=0\n",
      "Target=0, Prediccion=0\n",
      "Target=0, Prediccion=0\n",
      "Target=1, Prediccion=1\n",
      "Target=1, Prediccion=1\n",
      "Target=1, Prediccion=1\n",
      "Target=1, Prediccion=1\n",
      "Target=1, Prediccion=1\n"
     ]
    }
   ],
   "source": [
    "for i,x in enumerate(X.values):\n",
    "    prediction = f(x, weights)\n",
    "    print(\"Target=%d, Prediccion=%d\" % (y[i], prediction))"
   ]
  },
  {
   "cell_type": "code",
   "execution_count": 12,
   "id": "09ff6c76",
   "metadata": {
    "slideshow": {
     "slide_type": "slide"
    }
   },
   "outputs": [
    {
     "data": {
      "text/plain": [
       "[-0.1, 0.20653640140000007, -0.23418117710000003]"
      ]
     },
     "execution_count": 12,
     "metadata": {},
     "output_type": "execute_result"
    }
   ],
   "source": [
    "weights"
   ]
  },
  {
   "cell_type": "markdown",
   "id": "8c12255f",
   "metadata": {
    "slideshow": {
     "slide_type": "slide"
    }
   },
   "source": [
    "# Veamos como funciona\n",
    "\n",
    "Tomemos un x (una fila)"
   ]
  },
  {
   "cell_type": "code",
   "execution_count": 14,
   "id": "97b54c84",
   "metadata": {
    "slideshow": {
     "slide_type": "fragment"
    }
   },
   "outputs": [
    {
     "data": {
      "text/plain": [
       "array([7.67375647, 3.50856301])"
      ]
     },
     "execution_count": 14,
     "metadata": {},
     "output_type": "execute_result"
    }
   ],
   "source": [
    "x"
   ]
  },
  {
   "cell_type": "code",
   "execution_count": 15,
   "id": "354a05c2",
   "metadata": {
    "slideshow": {
     "slide_type": "fragment"
    }
   },
   "outputs": [
    {
     "data": {
      "text/plain": [
       "1"
      ]
     },
     "execution_count": 15,
     "metadata": {},
     "output_type": "execute_result"
    }
   ],
   "source": [
    "f(x, weights)"
   ]
  },
  {
   "cell_type": "markdown",
   "id": "a7931557",
   "metadata": {
    "slideshow": {
     "slide_type": "slide"
    }
   },
   "source": [
    "# No es una regresion logistica con sombrero nuevo?\n",
    "\n",
    "Un modelo que era una combinacion lineal de las features que tiraba 0 y 1....\n"
   ]
  },
  {
   "cell_type": "markdown",
   "id": "695d4270",
   "metadata": {
    "slideshow": {
     "slide_type": "fragment"
    }
   },
   "source": [
    "# \"la neurona\"\n",
    "\n",
    "![](https://i.stack.imgur.com/Ql0YP.png)"
   ]
  },
  {
   "cell_type": "markdown",
   "id": "e4c412b1",
   "metadata": {
    "slideshow": {
     "slide_type": "slide"
    }
   },
   "source": [
    "# Activacion\n",
    "\n",
    "Que hace que no sea una simple combinacion lineal del input? \n",
    "\n",
    "## Nonlinear functions\n",
    "\n",
    "* (a) Sigmoid function\n",
    "* (b) Tanh function\n",
    "* (c) ReLU function\n",
    "* (d) Leaky ReLU function.\n",
    "\n",
    "> Se puede demostrar que sin la no linealidad de la funcion de activacion, cualquier red neuronal por mas compleja que sea se puede reducir a una red de una sola capa con coeficientes lineales. "
   ]
  },
  {
   "cell_type": "markdown",
   "id": "8c3aa7ef",
   "metadata": {
    "slideshow": {
     "slide_type": "slide"
    }
   },
   "source": [
    "# Funciones de activacion\n",
    "\n",
    "Ejemplos unidimensionales:\n",
    "\n",
    "![](https://www.researchgate.net/publication/323617663/figure/fig3/AS:667846732423172@1536238477220/Nonlinear-function-a-Sigmoid-function-b-Tanh-function-c-ReLU-function-d-Leaky.png)"
   ]
  },
  {
   "cell_type": "markdown",
   "id": "3f92215c",
   "metadata": {
    "slideshow": {
     "slide_type": "slide"
    }
   },
   "source": [
    "# Por que Deep Learning? \n",
    "\n",
    "* En teoria una red neuronal de una sola capa con muchas neuronas, podria aproximar cualquier funcion, pero es mas eficiente entrenar una red de varias capaz de tamaño reducido.\n",
    "\n",
    "* Como controlamos la complejidad (capacidad de aprendizaje) de una red?\n",
    "\n",
    "    * Numero de Neuronas (width).\n",
    "    * Numero de Layers (depth).\n",
    "\n",
    "![](2.png)\n"
   ]
  },
  {
   "cell_type": "markdown",
   "id": "29ef5fec",
   "metadata": {
    "slideshow": {
     "slide_type": "slide"
    }
   },
   "source": [
    "```python\n",
    "...Theoretical results strongly suggest that in order to learn the kind of complicated functions that can represent high-level abstractions (e.g. in vision, language, and other AI-level tasks), one needs deep architectures. Deep architectures are composed of multiple levels of non-linear operations, such as in neural nets\n",
    "with many hidden layers...\n",
    "``` \n",
    "                                        - Yoshua Bengio (2009), \"Learning Deep Architectures for AI\""
   ]
  },
  {
   "cell_type": "markdown",
   "id": "fae601f1",
   "metadata": {
    "slideshow": {
     "slide_type": "slide"
    }
   },
   "source": [
    "* Deeper redes permiten usar menos parametros, las shallow redes no son buenas para abstraer conocimiento (reducir la dimensionalidad) https://arxiv.org/pdf/1312.6098.pdf\n",
    "\n",
    "![](https://www.researchgate.net/profile/Yali-Nie/publication/326531654/figure/fig17/AS:650654590717968@1532139551523/Layers-and-their-abstraction-in-deep-learning-Image-recognition-as-measured-by-ImageNet.png)"
   ]
  },
  {
   "cell_type": "markdown",
   "id": "f99ffd3b",
   "metadata": {
    "slideshow": {
     "slide_type": "slide"
    }
   },
   "source": [
    "* Relational and semantic knowledge can be obtained at higher levels of abstraction and representation of the raw data (Yoshua Bengio and Yann LeCun, Scaling Learning Algorithms towards AI, 2007).\n",
    "\n",
    "* Deep architectures can be representationally efficient. This sounds contradictory, but its a great benefit because of the distributed representation power by deep learning."
   ]
  },
  {
   "cell_type": "markdown",
   "id": "a1520443",
   "metadata": {
    "slideshow": {
     "slide_type": "slide"
    }
   },
   "source": [
    "* The learning capacity of deep learning algorithms is proportional to the size of data, that is, performance increases as the input data increases, whereas, for shallow or traditional learning algorithms, the performance reaches a plateau after a certain amount of data is provided as shown in the following figure, Learning capability of deep learning versus traditional machine learning:\n",
    "\n",
    "\n",
    "![](https://cdn-images-1.medium.com/max/1600/0*GTzatEUd4cICPVub.)"
   ]
  },
  {
   "cell_type": "markdown",
   "id": "0a17c073",
   "metadata": {
    "slideshow": {
     "slide_type": "slide"
    }
   },
   "source": [
    "![](3.png)"
   ]
  },
  {
   "cell_type": "markdown",
   "id": "1bec74a8",
   "metadata": {
    "slideshow": {
     "slide_type": "slide"
    }
   },
   "source": [
    "![](4.png)"
   ]
  },
  {
   "cell_type": "markdown",
   "id": "c086882f",
   "metadata": {
    "slideshow": {
     "slide_type": "slide"
    }
   },
   "source": [
    "![](5.png)"
   ]
  },
  {
   "cell_type": "markdown",
   "id": "db8cc74a",
   "metadata": {
    "slideshow": {
     "slide_type": "slide"
    }
   },
   "source": [
    "#  Como encuentro los betas?\n",
    "\n",
    "Como siempre...minimizo la funcion de costo. Si quiero entrenar mi red para clasificar perro/gato uso las mismas metricas de la toda la vida para ajustar los betas de la ultima capa que decide si es perro o gato. Derivo la funcion de costo... funcion que depende de los betas de la ultima capa, la anterior, la antepenultima y asi...\n",
    "\n",
    "## Backpropagation\n",
    "\n",
    "![](7.png)"
   ]
  },
  {
   "cell_type": "markdown",
   "id": "c653800c",
   "metadata": {
    "slideshow": {
     "slide_type": "slide"
    }
   },
   "source": [
    "Pero una red neuronal tiene una forma analitica cerrada que podemos derivar?\n",
    "\n",
    "Veamos que pinta tiene una funcion de costo:\n",
    "\n",
    "![](6.png)"
   ]
  },
  {
   "cell_type": "markdown",
   "id": "2c22ebc6",
   "metadata": {
    "slideshow": {
     "slide_type": "slide"
    }
   },
   "source": [
    "# Optimizadores\n",
    "\n",
    "Como vimos en el curso para buscar el minimo de la funcion de costo no derivamos, iteramos (epochs) con pasitos cortos (learning rate) en la direccion de mayor pendiente en busqueda del minimo.\n",
    "\n",
    "### Adaptative Learning Rates\n",
    "\n",
    "### Batched Stochastic Gradient Descent"
   ]
  },
  {
   "cell_type": "markdown",
   "id": "d050a531",
   "metadata": {
    "slideshow": {
     "slide_type": "slide"
    }
   },
   "source": [
    "# Regularizacion\n",
    "\n",
    "## Dropout\n",
    "\n",
    "De manera aleatoria matamos neuronas con una birrita en cada iteracion, obligamos a que todas las neuronas aprendan. Esto hace que la red sea robusta y que pueda generalizar. \n",
    "\n",
    "## Early Stopping\n",
    "\n",
    "Dejamos de iterar cuando en un set de cross validation empezamos a performar mal.\n",
    "\n"
   ]
  },
  {
   "cell_type": "markdown",
   "id": "659f4b2b",
   "metadata": {
    "slideshow": {
     "slide_type": "slide"
    }
   },
   "source": [
    "# Redes Multicapa\n",
    "\n",
    "\n",
    "Veamos un ejemplo de como construir una red neuronal para el dataset de los digitos escritos a mano:\n",
    "\n",
    "\n",
    "![](https://camo.githubusercontent.com/e72b6f47eb9d50f9c444e38e5eba02d3f630996554bf4df767bd01b62032fad7/68747470733a2f2f63646e2d696d616765732d312e6d656469756d2e636f6d2f6d61782f313339312f312a37486d534a4f41425463527a574d564f4233664a6c412e706e67)\n",
    "\n",
    "+ El objetivo es una funcion (red neuronal) que tome como input la imagen de un numero (por ejemplo el 8) y su output un vector de 10 dimensiones con las probabilidades de pertenencia a cada clase. En este caso esperamos que la clase que prediga con mayor probabilidad sea el 8."
   ]
  },
  {
   "cell_type": "code",
   "execution_count": 17,
   "id": "c58074f2",
   "metadata": {
    "slideshow": {
     "slide_type": "skip"
    }
   },
   "outputs": [],
   "source": [
    "from keras.datasets import mnist\n",
    "from keras.utils import np_utils\n",
    "import matplotlib.pyplot as plt\n",
    "\n",
    "# activaciones\n",
    "def sigmoid(x):\n",
    "    return 1 / (1 + np.exp(-x))\n",
    "def relu(x):\n",
    "    return np.maximum(x, 0)\n",
    "def tanh(x):\n",
    "    return np.tanh(x)\n",
    "\n",
    "def tanh_prime(x):\n",
    "    return 1 - np.tanh(x)**2\n",
    "def sigmoid_prime(x):\n",
    "    return np.exp(-x) / (1 + np.exp(-x))**2\n",
    "def relu_prime(x):\n",
    "    return np.array(x >= 0).astype('int')\n",
    "\n",
    "# errores\n",
    "def mse(y_true, y_pred):\n",
    "    return np.mean(np.power(y_true - y_pred, 2))\n",
    "def sse(y_true, y_pred):\n",
    "    return 0.5 * np.sum(np.power(y_true - y_pred, 2))\n",
    "\n",
    "def mse_prime(y_true, y_pred):\n",
    "    return 2 * (y_pred - y_true) / y_pred.size\n",
    "def sse_prime(y_true, y_pred):\n",
    "    return y_pred - y_true\n",
    "\n",
    "\n",
    "\n",
    "# importamos los datos\n",
    "\n",
    "(x_train, y_train), (x_test, y_test) = mnist.load_data()\n",
    "\n",
    "x_train = x_train.astype('float32')\n",
    "x_train /= 255\n",
    "y_train = np_utils.to_categorical(y_train)\n",
    "x_train = x_train[0:1000]\n",
    "y_train = y_train[0:1000]\n",
    "\n",
    "x_test = x_test.astype('float32')\n",
    "x_test /= 255\n",
    "y_test = np_utils.to_categorical(y_test)"
   ]
  },
  {
   "cell_type": "markdown",
   "id": "aa84cdc7",
   "metadata": {
    "slideshow": {
     "slide_type": "slide"
    }
   },
   "source": [
    "# Estructura de la Red\n",
    "\n",
    "```\n",
    "network = [\n",
    "    FlattenLayer(input_shape=(28, 28)),\n",
    "    FCLayer(28 * 28, 20),\n",
    "    ActivationLayer(relu, relu_prime),\n",
    "    FCLayer(20, 10),\n",
    "    SoftmaxLayer(10)\n",
    "]\n",
    "```\n",
    "\n",
    "\n",
    "+ 28*28 pixeles tienen las imagenes, la primer capa vectoriza las imagenes\n",
    "+ la segunda capa tiene 20 'neuronas' (20 combinaciones lineales de las 28*28 variables)\n",
    "+ la capa de activacion donde meto la no linealidad\n",
    "+ una tercer capa que conecta 20 neuronas con las 10 neuronas finales (una por cada clase)\n",
    "+ la ultima capa solo se encarga de normalizar la salida para obtener las probabilidades\n",
    "\n",
    "Vamos a definir cada capa como una clase, una clase era una 'funcion' que podia tener funciones y variables embebidas. Durante todo el curso usamos objetos clase cuando usabamos un modelo, `modelo.fit`, etc.\n"
   ]
  },
  {
   "cell_type": "code",
   "execution_count": null,
   "id": "dce612e2",
   "metadata": {
    "slideshow": {
     "slide_type": "slide"
    }
   },
   "outputs": [],
   "source": [
    "# reshapea el input\n",
    "class FlattenLayer:\n",
    "    def __init__(self, input_shape):\n",
    "        self.input_shape = input_shape\n",
    "\n",
    "    def forward(self, input):\n",
    "        return np.reshape(input, (1, -1))\n",
    "\n",
    "    \n",
    "# capa fully conected\n",
    "\n",
    "class FCLayer:\n",
    "    def __init__(self, input_size, output_size):\n",
    "        self.input_size = input_size\n",
    "        self.output_size = output_size\n",
    "        self.weights = np.random.randn(input_size, output_size) / np.sqrt(input_size + output_size)\n",
    "        self.bias = np.random.randn(1, output_size) / np.sqrt(input_size + output_size)\n",
    "\n",
    "    def forward(self, input):\n",
    "        self.input = input\n",
    "        return np.dot(input, self.weights) + self.bias\n",
    "\n"
   ]
  },
  {
   "cell_type": "code",
   "execution_count": null,
   "id": "13fdf13f",
   "metadata": {
    "slideshow": {
     "slide_type": "slide"
    }
   },
   "outputs": [],
   "source": [
    "    \n",
    "# activacion (no linealidad)\n",
    "\n",
    "class ActivationLayer:\n",
    "    def __init__(self, activation, activation_prime):\n",
    "        self.activation = activation\n",
    "        self.activation_prime = activation_prime\n",
    "    \n",
    "    def forward(self, input):\n",
    "        self.input = input\n",
    "        return self.activation(input)\n",
    "    \n",
    "\n",
    "    \n",
    "# reshapea el output, normaliza sobre la cantidad de clases\n",
    "class SoftmaxLayer:\n",
    "    def __init__(self, input_size):\n",
    "        self.input_size = input_size\n",
    "    \n",
    "    def forward(self, input):\n",
    "        self.input = input\n",
    "        tmp = np.exp(input)\n",
    "        self.output = tmp / np.sum(tmp)\n",
    "        return self.output\n"
   ]
  },
  {
   "cell_type": "markdown",
   "id": "4d2d7019",
   "metadata": {
    "slideshow": {
     "slide_type": "slide"
    }
   },
   "source": [
    "# Y el descenso grandiente?"
   ]
  },
  {
   "cell_type": "code",
   "execution_count": 18,
   "id": "3fb68440",
   "metadata": {
    "slideshow": {
     "slide_type": "slide"
    }
   },
   "outputs": [],
   "source": [
    "# reshapea el input\n",
    "class FlattenLayer:\n",
    "    def __init__(self, input_shape):\n",
    "        self.input_shape = input_shape\n",
    "\n",
    "    def forward(self, input):\n",
    "        return np.reshape(input, (1, -1))\n",
    "    \n",
    "    def backward(self, output_error, learning_rate):\n",
    "        return np.reshape(output_error, self.input_shape)\n",
    "    \n",
    "# capa fully conected\n",
    "\n",
    "class FCLayer:\n",
    "    def __init__(self, input_size, output_size):\n",
    "        self.input_size = input_size\n",
    "        self.output_size = output_size\n",
    "        self.weights = np.random.randn(input_size, output_size) / np.sqrt(input_size + output_size)\n",
    "        self.bias = np.random.randn(1, output_size) / np.sqrt(input_size + output_size)\n",
    "\n",
    "    def forward(self, input):\n",
    "        self.input = input\n",
    "        return np.dot(input, self.weights) + self.bias\n",
    "\n",
    "    def backward(self, output_error, learning_rate):\n",
    "        input_error = np.dot(output_error, self.weights.T)\n",
    "        weights_error = np.dot(self.input.T, output_error)\n",
    "        # bias_error = output_error\n",
    "        \n",
    "        self.weights -= learning_rate * weights_error\n",
    "        self.bias -= learning_rate * output_error\n",
    "        return input_error "
   ]
  },
  {
   "cell_type": "code",
   "execution_count": 19,
   "id": "84815e6f",
   "metadata": {
    "slideshow": {
     "slide_type": "slide"
    }
   },
   "outputs": [],
   "source": [
    "    \n",
    "# activacion (no linealidad)\n",
    "\n",
    "class ActivationLayer:\n",
    "    def __init__(self, activation, activation_prime):\n",
    "        self.activation = activation\n",
    "        self.activation_prime = activation_prime\n",
    "    \n",
    "    def forward(self, input):\n",
    "        self.input = input\n",
    "        return self.activation(input)\n",
    "    \n",
    "    def backward(self, output_error, learning_rate):\n",
    "        return output_error * self.activation_prime(self.input)\n",
    "    \n",
    "# reshapea el output, normaliza sobre la cantidad de clases\n",
    "class SoftmaxLayer:\n",
    "    def __init__(self, input_size):\n",
    "        self.input_size = input_size\n",
    "    \n",
    "    def forward(self, input):\n",
    "        self.input = input\n",
    "        tmp = np.exp(input)\n",
    "        self.output = tmp / np.sum(tmp)\n",
    "        return self.output\n",
    "    \n",
    "    def backward(self, output_error, learning_rate):\n",
    "        input_error = np.zeros(output_error.shape)\n",
    "        out = np.tile(self.output.T, self.input_size)\n",
    "        return self.output * np.dot(output_error, np.identity(self.input_size) - out)"
   ]
  },
  {
   "cell_type": "code",
   "execution_count": 20,
   "id": "305c715e",
   "metadata": {
    "slideshow": {
     "slide_type": "slide"
    }
   },
   "outputs": [],
   "source": [
    "# importamos los datos\n",
    "\n",
    "(x_train, y_train), (x_test, y_test) = mnist.load_data()\n",
    "\n",
    "x_train = x_train.astype('float32')\n",
    "x_train /= 255\n",
    "y_train = np_utils.to_categorical(y_train)\n",
    "x_train = x_train[0:1000]\n",
    "y_train = y_train[0:1000]\n",
    "\n",
    "x_test = x_test.astype('float32')\n",
    "x_test /= 255\n",
    "y_test = np_utils.to_categorical(y_test)"
   ]
  },
  {
   "cell_type": "code",
   "execution_count": null,
   "id": "25b6b9a0",
   "metadata": {
    "slideshow": {
     "slide_type": "skip"
    }
   },
   "outputs": [],
   "source": [
    "network = [\n",
    "    FlattenLayer(input_shape=(28, 28)),\n",
    "    FCLayer(28 * 28, 10),\n",
    "    SoftmaxLayer(10)\n",
    "]"
   ]
  },
  {
   "cell_type": "code",
   "execution_count": null,
   "id": "eb98a0ff",
   "metadata": {
    "slideshow": {
     "slide_type": "skip"
    }
   },
   "outputs": [],
   "source": [
    "network = [\n",
    "    FlattenLayer(input_shape=(28, 28)),\n",
    "    FCLayer(28 * 28, 10),\n",
    "    ActivationLayer(relu, relu_prime),\n",
    "    SoftmaxLayer(10)\n",
    "]"
   ]
  },
  {
   "cell_type": "code",
   "execution_count": 21,
   "id": "0e9a528a",
   "metadata": {
    "slideshow": {
     "slide_type": "slide"
    }
   },
   "outputs": [],
   "source": [
    "network = [\n",
    "    FlattenLayer(input_shape=(28, 28)),\n",
    "    FCLayer(28 * 28, 20),\n",
    "    ActivationLayer(relu, relu_prime),\n",
    "    FCLayer(20, 10),\n",
    "    SoftmaxLayer(10)\n",
    "]"
   ]
  },
  {
   "cell_type": "code",
   "execution_count": 22,
   "id": "1977d42b",
   "metadata": {
    "slideshow": {
     "slide_type": "slide"
    }
   },
   "outputs": [],
   "source": [
    "def train(network,x_train, y_train, epochs=40,learning_rate=0.1):\n",
    "    err=[]\n",
    "    # training\n",
    "    for epoch in range(epochs):\n",
    "        error = 0\n",
    "        for x, y_true in zip(x_train, y_train):\n",
    "            # forward\n",
    "            output = x\n",
    "            for layer in network:\n",
    "                output = layer.forward(output)\n",
    "\n",
    "            # error (display purpose only)\n",
    "            error += mse(y_true, output)\n",
    "\n",
    "            # backward\n",
    "            output_error = mse_prime(y_true, output)\n",
    "            for layer in reversed(network):\n",
    "                output_error = layer.backward(output_error, learning_rate)\n",
    "\n",
    "        error /= len(x_train)\n",
    "        err.append(error)\n",
    "    return(network,err)\n",
    "\n",
    "def predict(network, input):\n",
    "    output = input\n",
    "    for layer in network:\n",
    "        output = layer.forward(output)\n",
    "    return output"
   ]
  },
  {
   "cell_type": "code",
   "execution_count": 23,
   "id": "08dddbc3",
   "metadata": {
    "slideshow": {
     "slide_type": "slide"
    }
   },
   "outputs": [],
   "source": [
    "network,err=train(network,x_train,y_train)"
   ]
  },
  {
   "cell_type": "code",
   "execution_count": 24,
   "id": "91136fa8",
   "metadata": {
    "slideshow": {
     "slide_type": "fragment"
    }
   },
   "outputs": [
    {
     "data": {
      "image/png": "[encoded data removed]",
      "text/plain": [
       "<Figure size 432x288 with 1 Axes>"
      ]
     },
     "metadata": {
      "needs_background": "light"
     },
     "output_type": "display_data"
    }
   ],
   "source": [
    "plt.plot(err)\n",
    "plt.grid(True)\n",
    "plt.ylabel('error')\n",
    "plt.xlabel('epochs')\n",
    "plt.show()"
   ]
  },
  {
   "cell_type": "code",
   "execution_count": 26,
   "id": "c9772b76",
   "metadata": {
    "slideshow": {
     "slide_type": "slide"
    }
   },
   "outputs": [
    {
     "name": "stdout",
     "output_type": "stream",
     "text": [
      "accuracy: 0.8592\n",
      "mse: 0.0214\n"
     ]
    }
   ],
   "source": [
    "# veamos la performance en el set de testeo\n",
    "\n",
    "accuracy = sum([np.argmax(y) == np.argmax(predict(network, x)) for x, y in zip(x_test, y_test)]) / len(x_test)\n",
    "error = sum([mse(y, predict(network, x)) for x, y in zip(x_test, y_test)]) / len(x_test)\n",
    "print('accuracy: %.4f' % accuracy)\n",
    "print('mse: %.4f' % error)"
   ]
  },
  {
   "cell_type": "code",
   "execution_count": 27,
   "id": "1bc122a4",
   "metadata": {
    "slideshow": {
     "slide_type": "slide"
    }
   },
   "outputs": [
    {
     "ename": "NameError",
     "evalue": "name 'test' is not defined",
     "output_type": "error",
     "traceback": [
      "\u001b[0;31m---------------------------------------------------------------------------\u001b[0m",
      "\u001b[0;31mNameError\u001b[0m                                 Traceback (most recent call last)",
      "\u001b[0;32m/var/folders/r5/drfy1ddj6kn6vmxs9_7hw4_r0000gn/T/ipykernel_23063/2464171513.py\u001b[0m in \u001b[0;36m<module>\u001b[0;34m\u001b[0m\n\u001b[1;32m      4\u001b[0m \u001b[0;32mfor\u001b[0m \u001b[0mi\u001b[0m\u001b[0;34m,\u001b[0m\u001b[0max\u001b[0m \u001b[0;32min\u001b[0m \u001b[0menumerate\u001b[0m\u001b[0;34m(\u001b[0m\u001b[0maxs\u001b[0m\u001b[0;34m.\u001b[0m\u001b[0mflat\u001b[0m\u001b[0;34m)\u001b[0m\u001b[0;34m:\u001b[0m\u001b[0;34m\u001b[0m\u001b[0;34m\u001b[0m\u001b[0m\n\u001b[1;32m      5\u001b[0m \u001b[0;34m\u001b[0m\u001b[0m\n\u001b[0;32m----> 6\u001b[0;31m     \u001b[0mimage\u001b[0m \u001b[0;34m=\u001b[0m \u001b[0mnp\u001b[0m\u001b[0;34m.\u001b[0m\u001b[0mreshape\u001b[0m\u001b[0;34m(\u001b[0m\u001b[0mtest\u001b[0m\u001b[0;34m,\u001b[0m \u001b[0;34m(\u001b[0m\u001b[0;36m28\u001b[0m\u001b[0;34m,\u001b[0m \u001b[0;36m28\u001b[0m\u001b[0;34m)\u001b[0m\u001b[0;34m)\u001b[0m\u001b[0;34m\u001b[0m\u001b[0;34m\u001b[0m\u001b[0m\n\u001b[0m\u001b[1;32m      7\u001b[0m     \u001b[0max\u001b[0m\u001b[0;34m.\u001b[0m\u001b[0mimshow\u001b[0m\u001b[0;34m(\u001b[0m\u001b[0mimage\u001b[0m\u001b[0;34m,\u001b[0m \u001b[0mcmap\u001b[0m\u001b[0;34m=\u001b[0m\u001b[0;34m'binary'\u001b[0m\u001b[0;34m)\u001b[0m\u001b[0;34m\u001b[0m\u001b[0;34m\u001b[0m\u001b[0m\n\u001b[1;32m      8\u001b[0m \u001b[0;34m\u001b[0m\u001b[0m\n",
      "\u001b[0;31mNameError\u001b[0m: name 'test' is not defined"
     ]
    },
    {
     "data": {
      "image/png": "[encoded data removed]",
      "text/plain": [
       "<Figure size 936x720 with 12 Axes>"
      ]
     },
     "metadata": {
      "needs_background": "light"
     },
     "output_type": "display_data"
    }
   ],
   "source": [
    "\n",
    "fig, axs = plt.subplots(3,4,figsize=(13,10))\n",
    "\n",
    "\n",
    "for i,ax in enumerate(axs.flat):\n",
    "    \n",
    "    image = np.reshape(test, (28, 28))\n",
    "    ax.imshow(image, cmap='binary')\n",
    "\n",
    "    pred = predict(network, test)[0]\n",
    "    idx = np.argmax(pred)\n",
    "    idx_true = np.argmax(true)\n",
    "    ax.text(0.5,2.5,'pred: %s, prob: %.3f, true: %d' % (idx, pred[idx], idx_true))\n",
    "plt.show()"
   ]
  },
  {
   "cell_type": "code",
   "execution_count": 29,
   "id": "562c99db",
   "metadata": {
    "scrolled": false,
    "slideshow": {
     "slide_type": "slide"
    }
   },
   "outputs": [
    {
     "data": {
      "image/png": "[encoded data removed]",
      "text/plain": [
       "<Figure size 432x288 with 1 Axes>"
      ]
     },
     "metadata": {
      "needs_background": "light"
     },
     "output_type": "display_data"
    },
    {
     "name": "stdout",
     "output_type": "stream",
     "text": [
      "pred: 7, prob: 0.999, true: 7\n"
     ]
    },
    {
     "data": {
      "image/png": "[encoded data removed]",
      "text/plain": [
       "<Figure size 432x288 with 1 Axes>"
      ]
     },
     "metadata": {
      "needs_background": "light"
     },
     "output_type": "display_data"
    },
    {
     "name": "stdout",
     "output_type": "stream",
     "text": [
      "pred: 2, prob: 0.918, true: 2\n"
     ]
    },
    {
     "data": {
      "image/png": "[encoded data removed]",
      "text/plain": [
       "<Figure size 432x288 with 1 Axes>"
      ]
     },
     "metadata": {
      "needs_background": "light"
     },
     "output_type": "display_data"
    },
    {
     "name": "stdout",
     "output_type": "stream",
     "text": [
      "pred: 1, prob: 0.996, true: 1\n"
     ]
    },
    {
     "data": {
      "image/png": "[encoded data removed]",
      "text/plain": [
       "<Figure size 432x288 with 1 Axes>"
      ]
     },
     "metadata": {
      "needs_background": "light"
     },
     "output_type": "display_data"
    },
    {
     "name": "stdout",
     "output_type": "stream",
     "text": [
      "pred: 0, prob: 0.999, true: 0\n"
     ]
    }
   ],
   "source": [
    "samples=4\n",
    "for test, true in zip(x_test[:samples], y_test[:samples]):\n",
    "    image = np.reshape(test, (28, 28))\n",
    "    plt.imshow(image, cmap='binary')\n",
    "    plt.show()\n",
    "    pred = predict(network, test)[0]\n",
    "    idx = np.argmax(pred)\n",
    "    idx_true = np.argmax(true)\n",
    "    print('pred: %s, prob: %.3f, true: %d' % (idx, pred[idx], idx_true))"
   ]
  },
  {
   "cell_type": "markdown",
   "id": "0c0b65b6",
   "metadata": {
    "slideshow": {
     "slide_type": "slide"
    }
   },
   "source": [
    "# Hay que hacer todo eso a mano? \n",
    "\n",
    "# TensorFlow\n",
    "\n",
    "Libreria de google para redes neuronales, antiguamente se usaba una libreria aparte llamada KERAS para armar las redes, hoy keras esta incluida en TF.\n",
    "\n",
    "Esta es la arquitectura de nuestra red:\n",
    "\n",
    "```\n",
    "network = [\n",
    "    FlattenLayer(input_shape=(28, 28)),\n",
    "    FCLayer(28 * 28, 20),\n",
    "    ActivationLayer(relu, relu_prime),\n",
    "    FCLayer(20, 10),\n",
    "    SoftmaxLayer(10)\n",
    "]\n",
    "```\n",
    "\n",
    "Como implementamos esto en Tf?"
   ]
  },
  {
   "cell_type": "code",
   "execution_count": 30,
   "id": "5334f413",
   "metadata": {
    "slideshow": {
     "slide_type": "slide"
    }
   },
   "outputs": [],
   "source": [
    "import tensorflow as tf\n",
    "import tensorflow.keras as ks"
   ]
  },
  {
   "cell_type": "code",
   "execution_count": 31,
   "id": "1a8a9fc3",
   "metadata": {
    "slideshow": {
     "slide_type": "fragment"
    }
   },
   "outputs": [
    {
     "name": "stdout",
     "output_type": "stream",
     "text": [
      "Metal device set to: Apple M1\n"
     ]
    },
    {
     "name": "stderr",
     "output_type": "stream",
     "text": [
      "2022-01-05 11:49:59.680588: I tensorflow/core/common_runtime/pluggable_device/pluggable_device_factory.cc:305] Could not identify NUMA node of platform GPU ID 0, defaulting to 0. Your kernel may not have been built with NUMA support.\n",
      "2022-01-05 11:49:59.681753: I tensorflow/core/common_runtime/pluggable_device/pluggable_device_factory.cc:271] Created TensorFlow device (/job:localhost/replica:0/task:0/device:GPU:0 with 0 MB memory) -> physical PluggableDevice (device: 0, name: METAL, pci bus id: <undefined>)\n"
     ]
    }
   ],
   "source": [
    "model = ks.models.Sequential()\n",
    " \n",
    "model.add(ks.layers.Flatten(input_shape=(28, 28)))\n",
    "model.add(ks.layers.Dense(20,activation=tf.nn.relu))\n",
    "model.add(ks.layers.Dense(20,activation=tf.nn.relu))\n",
    "model.add(ks.layers.Dense(10,activation=tf.nn.softmax))\n",
    " \n",
    "model.compile(\n",
    "              loss='categorical_crossentropy',\n",
    "              metrics=['accuracy']\n",
    "              )"
   ]
  },
  {
   "cell_type": "code",
   "execution_count": 32,
   "id": "b0ca76a0",
   "metadata": {
    "slideshow": {
     "slide_type": "slide"
    }
   },
   "outputs": [
    {
     "name": "stderr",
     "output_type": "stream",
     "text": [
      "2022-01-05 11:50:09.582022: I tensorflow/compiler/mlir/mlir_graph_optimization_pass.cc:185] None of the MLIR Optimization Passes are enabled (registered 2)\n",
      "2022-01-05 11:50:09.585347: W tensorflow/core/platform/profile_utils/cpu_utils.cc:128] Failed to get CPU frequency: 0 Hz\n",
      "2022-01-05 11:50:09.732770: I tensorflow/core/grappler/optimizers/custom_graph_optimizer_registry.cc:112] Plugin optimizer for device_type GPU is enabled.\n"
     ]
    },
    {
     "name": "stdout",
     "output_type": "stream",
     "text": [
      "Epoch 1/10\n",
      "32/32 [==============================] - 0s 6ms/step - loss: 2.0896 - accuracy: 0.3070\n",
      "Epoch 2/10\n",
      "32/32 [==============================] - 0s 6ms/step - loss: 1.6577 - accuracy: 0.5780\n",
      "Epoch 3/10\n",
      "32/32 [==============================] - 0s 6ms/step - loss: 1.2963 - accuracy: 0.7120\n",
      "Epoch 4/10\n",
      "32/32 [==============================] - 0s 6ms/step - loss: 0.9988 - accuracy: 0.7720\n",
      "Epoch 5/10\n",
      "32/32 [==============================] - 0s 7ms/step - loss: 0.7726 - accuracy: 0.8220\n",
      "Epoch 6/10\n",
      "32/32 [==============================] - 0s 6ms/step - loss: 0.6278 - accuracy: 0.8490\n",
      "Epoch 7/10\n",
      "32/32 [==============================] - 0s 6ms/step - loss: 0.5279 - accuracy: 0.8650\n",
      "Epoch 8/10\n",
      "32/32 [==============================] - 0s 7ms/step - loss: 0.4518 - accuracy: 0.8850\n",
      "Epoch 9/10\n",
      "32/32 [==============================] - 0s 7ms/step - loss: 0.3957 - accuracy: 0.8950\n",
      "Epoch 10/10\n",
      "32/32 [==============================] - 0s 7ms/step - loss: 0.3547 - accuracy: 0.9070\n"
     ]
    }
   ],
   "source": [
    "model.fit(x_train,y_train,epochs=10);"
   ]
  },
  {
   "cell_type": "markdown",
   "id": "f0d1c0ea",
   "metadata": {
    "slideshow": {
     "slide_type": "slide"
    }
   },
   "source": [
    "# Veamos como nos fue en el test:"
   ]
  },
  {
   "cell_type": "code",
   "execution_count": 33,
   "id": "32ef2404",
   "metadata": {
    "slideshow": {
     "slide_type": "fragment"
    }
   },
   "outputs": [
    {
     "name": "stdout",
     "output_type": "stream",
     "text": [
      " 37/313 [==>...........................] - ETA: 1s - loss: 0.6280 - accuracy: 0.8041"
     ]
    },
    {
     "name": "stderr",
     "output_type": "stream",
     "text": [
      "2022-01-05 11:50:39.785266: I tensorflow/core/grappler/optimizers/custom_graph_optimizer_registry.cc:112] Plugin optimizer for device_type GPU is enabled.\n"
     ]
    },
    {
     "name": "stdout",
     "output_type": "stream",
     "text": [
      "313/313 [==============================] - 1s 4ms/step - loss: 0.5606 - accuracy: 0.8291\n",
      "loss->  0.5605828166007996 \n",
      "acc->  0.8291000127792358\n"
     ]
    }
   ],
   "source": [
    "val_loss,val_acc = model.evaluate(x_test,y_test)\n",
    "print(\"loss-> \",val_loss,\"\\nacc-> \",val_acc)"
   ]
  },
  {
   "cell_type": "markdown",
   "id": "33aa2931",
   "metadata": {
    "slideshow": {
     "slide_type": "fragment"
    }
   },
   "source": [
    "## Miremos una sola prediccion:"
   ]
  },
  {
   "cell_type": "code",
   "execution_count": 23,
   "id": "914eb7b4",
   "metadata": {
    "slideshow": {
     "slide_type": "fragment"
    }
   },
   "outputs": [
    {
     "data": {
      "text/plain": [
       "array([1.7042895e-04, 1.0681600e-05, 3.0386774e-03, 3.1250835e-04,\n",
       "       2.7212143e-04, 5.1969531e-05, 4.3267846e-06, 9.8679346e-01,\n",
       "       2.2903752e-05, 9.3228202e-03], dtype=float32)"
      ]
     },
     "execution_count": 23,
     "metadata": {},
     "output_type": "execute_result"
    }
   ],
   "source": [
    "predictions=model.predict([x_test])\n",
    "predictions[0]"
   ]
  },
  {
   "cell_type": "code",
   "execution_count": 28,
   "id": "6875c72c",
   "metadata": {
    "slideshow": {
     "slide_type": "subslide"
    }
   },
   "outputs": [
    {
     "data": {
      "text/plain": [
       "array([0., 0., 0., 0., 0., 0., 0., 1., 0., 0.], dtype=float32)"
      ]
     },
     "execution_count": 28,
     "metadata": {},
     "output_type": "execute_result"
    }
   ],
   "source": [
    "y_test[0]"
   ]
  },
  {
   "cell_type": "code",
   "execution_count": 29,
   "id": "df2be319",
   "metadata": {
    "slideshow": {
     "slide_type": "fragment"
    }
   },
   "outputs": [
    {
     "name": "stdout",
     "output_type": "stream",
     "text": [
      "label ->  1\n",
      "prediction ->  1\n"
     ]
    }
   ],
   "source": [
    "print('label -> ',np.argmax(y_test[2]))\n",
    "print('prediction -> ',np.argmax(predictions[2]))"
   ]
  },
  {
   "cell_type": "code",
   "execution_count": 27,
   "id": "a3df74fb",
   "metadata": {
    "scrolled": true,
    "slideshow": {
     "slide_type": "fragment"
    }
   },
   "outputs": [
    {
     "name": "stdout",
     "output_type": "stream",
     "text": [
      "label ->  9\n",
      "prediction ->  9\n"
     ]
    }
   ],
   "source": [
    "print('label -> ',np.argmax(y_test[20]))\n",
    "print('prediction -> ',np.argmax(predictions[20]))"
   ]
  },
  {
   "cell_type": "markdown",
   "id": "4836ed25",
   "metadata": {
    "slideshow": {
     "slide_type": "slide"
    }
   },
   "source": [
    "## Cuando usar deep learning? tiramos todo lo que aprendimos en el curso?\n",
    "\n",
    "Miremos la performance de una NN en uno de los dataset que usamos en el curso, como el de 'hitter.csv' si, ese, malisimo! Ya se, pero bueno es uno de los que mas usamos (263 jugadores, 19 variables)\n",
    "\n",
    "Ajustamos esos datos con una regresion lineal, lasso y una NN. Aca los resultados:\n",
    "\n",
    "![](0.png)\n",
    "\n",
    "No solo no performo mejor que una regresion comun, si no que ademas tiene 1.4k parametros!\n",
    "\n",
    "https://lilianweng.github.io/lil-log/2019/03/14/are-deep-neural-networks-dramatically-overfitted.html"
   ]
  },
  {
   "cell_type": "markdown",
   "id": "873cf3b7",
   "metadata": {
    "slideshow": {
     "slide_type": "slide"
    }
   },
   "source": [
    "# Donde si usar deep learning:\n",
    "\n",
    "\n",
    "![](https://cdn-images-1.medium.com/max/1600/0*GTzatEUd4cICPVub.)\n",
    "\n",
    "+ nlp\n",
    "+ cv\n",
    "+ audio\n",
    "+ reinforcement learning (rl)"
   ]
  },
  {
   "cell_type": "markdown",
   "id": "ec5235c3",
   "metadata": {
    "slideshow": {
     "slide_type": "slide"
    }
   },
   "source": [
    "# nlp\n",
    "\n",
    "![](https://pythondiario.com/wp-content/uploads/2021/08/1_copilot.gif)\n",
    "\n",
    "\n",
    "\n",
    "http://nlpprogress.com/\n",
    "\n",
    "https://huggingface.co/models\n",
    "\n"
   ]
  },
  {
   "cell_type": "markdown",
   "id": "68c37312",
   "metadata": {
    "slideshow": {
     "slide_type": "slide"
    }
   },
   "source": [
    "# audio\n",
    "\n",
    "https://openai.com/blog/jukebox/\n",
    "\n",
    "https://fakeyou.com\n",
    "https://fakeyou.com/tts/result/TR:aykxb3fa2vcgnr13mnyfy5ksjgcag\n",
    "\n",
    "Usando solo 5 segundos de entrenamiento!\n",
    "\n",
    "https://www.youtube.com/watch?v=0sR1rU3gLzQ\n",
    "\n",
    "https://app.resemble.ai/voices\n",
    "\n",
    "https://www.lalal.ai"
   ]
  },
  {
   "cell_type": "markdown",
   "id": "a5d6a594",
   "metadata": {
    "slideshow": {
     "slide_type": "slide"
    }
   },
   "source": [
    "# img\n",
    "\n",
    "## GANS \n",
    "\n",
    "\n",
    "![](https://i1.wp.com/media.scoutmagazine.ca/2018/12/giphy-2.gif)\n",
    "\n",
    "https://thispersondoesnotexist.com\n",
    "\n",
    "\n",
    "https://openai.com/blog/image-gpt/\n",
    "https://openai.com/blog/dall-e/\n",
    "\n",
    "\n",
    "## deepfakes\n",
    "\n",
    "https://www.youtube.com/watch?v=HG_NZpkttXE\n",
    "\n",
    "\n"
   ]
  },
  {
   "cell_type": "markdown",
   "id": "19257413",
   "metadata": {
    "slideshow": {
     "slide_type": "slide"
    }
   },
   "source": [
    "# img\n",
    "\n",
    "## superesolucion\n",
    "\n",
    "https://www.youtube.com/watch?v=Fxd8XJ_J0Gc\n",
    "\n",
    "## yolo (you only look once)\n",
    "\n",
    "![](https://pythonawesome.com/content/images/2021/07/track_all.gif)\n",
    "\n",
    "https://colab.research.google.com/github/aissam-out/YOLO/blob/master/YOLO_ImageAI_video.ipynb#scrollTo=tXvkvSC8eij8"
   ]
  },
  {
   "cell_type": "markdown",
   "id": "63e7bb7d",
   "metadata": {
    "slideshow": {
     "slide_type": "slide"
    }
   },
   "source": [
    "# rl \n",
    "\n",
    "\n",
    "![](https://i.imgur.com/kdYU907.gif)\n",
    "https://www.youtube.com/watch?v=hx_bgoTF7bs\n",
    "\n",
    "\n",
    "https://www.youtube.com/watch?v=jjfDO2pWpys&t=378s"
   ]
  }
 ],
 "metadata": {
  "celltoolbar": "Slideshow",
  "kernelspec": {
   "display_name": "Python 3 (ipykernel)",
   "language": "python",
   "name": "python3"
  },
  "language_info": {
   "codemirror_mode": {
    "name": "ipython",
    "version": 3
   },
   "file_extension": ".py",
   "mimetype": "text/x-python",
   "name": "python",
   "nbconvert_exporter": "python",
   "pygments_lexer": "ipython3",
   "version": "3.9.6"
  }
 },
 "nbformat": 4,
 "nbformat_minor": 5
}
